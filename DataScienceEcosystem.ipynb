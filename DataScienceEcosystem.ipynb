{
 "cells": [
  {
   "cell_type": "markdown",
   "id": "a6e4cfdd-dc0b-43a2-94d2-78da9a61f296",
   "metadata": {},
   "source": [
    "# Data Science Tools and Ecosystem"
   ]
  },
  {
   "cell_type": "markdown",
   "id": "47284c90-6d1e-46b6-a361-36ecc54ab9aa",
   "metadata": {},
   "source": [
    "In this notebook, Data Science Tools and Ecosystem are summarized."
   ]
  },
  {
   "cell_type": "markdown",
   "id": "5e2b1e99-9b0a-4691-9ac5-d774677522e7",
   "metadata": {},
   "source": [
    "**Objectives:**\n",
    "- Format headings styles and normal text styles as markdown cells\n",
    "- Add ordered and unordered lists to markdown cells\n",
    "- Understanding of Jupyter Notebook basic functions such as Python, R, and other languages"
   ]
  },
  {
   "cell_type": "markdown",
   "id": "b0a883e6-32c2-4694-b081-72f21cb1f7d7",
   "metadata": {
    "tags": []
   },
   "source": [
    "## Some of the popular languages that Data Scientists use are:"
   ]
  },
  {
   "cell_type": "markdown",
   "id": "2734010a-2289-4f6e-acb1-dca3b6caeb60",
   "metadata": {
    "tags": []
   },
   "source": [
    "1. Python\n",
    "2. R\n",
    "3. SQL"
   ]
  },
  {
   "cell_type": "markdown",
   "id": "797e8f10-337c-4238-b86a-a2cf2f349745",
   "metadata": {},
   "source": [
    "## Some of the commonly used libraries used by Data Scientists include:"
   ]
  },
  {
   "cell_type": "markdown",
   "id": "29cb4557-7597-4a96-8ed4-7cea814a6294",
   "metadata": {},
   "source": [
    "1. Tensorflow\n",
    "2. NumPy\n",
    "3. Pandas"
   ]
  },
  {
   "cell_type": "markdown",
   "id": "4068e5ce-fdcc-4da7-b0bb-b16d54f0e70b",
   "metadata": {},
   "source": [
    "| Data Science Tools|\n",
    "| -------------|\n",
    "| Apache Spark |\n",
    "| Jupyter Notebook |\n",
    "| R Studio |"
   ]
  },
  {
   "cell_type": "markdown",
   "id": "13ccab0c-fea7-484a-a1e6-49efca3c256d",
   "metadata": {},
   "source": [
    "### Below are a few examples of evaluating arithmetic expressions in Python"
   ]
  },
  {
   "cell_type": "code",
   "execution_count": 12,
   "id": "f59d4665-5dfd-4d44-9a76-832e618f3c3d",
   "metadata": {
    "tags": []
   },
   "outputs": [
    {
     "data": {
      "text/plain": [
       "17"
      ]
     },
     "execution_count": 12,
     "metadata": {},
     "output_type": "execute_result"
    }
   ],
   "source": [
    "# This a simple arithmetic expression to mutiply then add integers\n",
    "(3*4)+5"
   ]
  },
  {
   "cell_type": "code",
   "execution_count": 3,
   "id": "38513b69-6e78-42fe-80b5-99986dfb4dec",
   "metadata": {
    "tags": []
   },
   "outputs": [
    {
     "data": {
      "text/plain": [
       "3.3333333333333335"
      ]
     },
     "execution_count": 3,
     "metadata": {},
     "output_type": "execute_result"
    }
   ],
   "source": [
    "# This will convert 200 minutes to hours by dividing by 60\n",
    "200/60"
   ]
  },
  {
   "cell_type": "markdown",
   "id": "8eefbc14-8db1-44e8-9db4-652b9ac0ca37",
   "metadata": {},
   "source": [
    "## Author ##\n",
    "Ashley Aw"
   ]
  },
  {
   "cell_type": "code",
   "execution_count": null,
   "id": "4442fa57-769b-426e-b163-c9a82cd52429",
   "metadata": {},
   "outputs": [],
   "source": []
  }
 ],
 "metadata": {
  "kernelspec": {
   "display_name": "Python",
   "language": "python",
   "name": "conda-env-python-py"
  },
  "language_info": {
   "codemirror_mode": {
    "name": "ipython",
    "version": 3
   },
   "file_extension": ".py",
   "mimetype": "text/x-python",
   "name": "python",
   "nbconvert_exporter": "python",
   "pygments_lexer": "ipython3",
   "version": "3.7.12"
  }
 },
 "nbformat": 4,
 "nbformat_minor": 5
}
